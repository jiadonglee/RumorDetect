{
 "cells": [
  {
   "cell_type": "markdown",
   "metadata": {},
   "source": [
    "### 文本数据预处理\n",
    "使用jieba分词，Word2Vec词向量分析"
   ]
  },
  {
   "cell_type": "code",
   "execution_count": 1,
   "metadata": {},
   "outputs": [
    {
     "name": "stderr",
     "output_type": "stream",
     "text": [
      "Using TensorFlow backend.\n"
     ]
    }
   ],
   "source": [
    "# -*- coding: utf-8 -*-\n",
    "from sklearn import model_selection, preprocessing, linear_model, naive_bayes, metrics, svm\n",
    "from sklearn.feature_extraction.text import TfidfVectorizer, CountVectorizer, TfidfTransformer\n",
    "from sklearn.feature_extraction import text\n",
    "from sklearn import decomposition, ensemble\n",
    "from sklearn.naive_bayes import MultinomialNB\n",
    "from keras import layers, models, optimizers\n",
    "from gensim.models import Word2Vec\n",
    "\n",
    "import pandas as pd\n",
    "import numpy as np\n",
    "import string, jieba, re, os, sys\n",
    "import logging"
   ]
  },
  {
   "cell_type": "code",
   "execution_count": 133,
   "metadata": {},
   "outputs": [
    {
     "name": "stdout",
     "output_type": "stream",
     "text": [
      "0    \\n\\t\\t傻逼媒体//【济宁学院男生因分手问题将女友捅死 两人均19岁】 http://t...\n",
      "1    \\n\\t\\t正在图书馆一惊一乍的看这些恐怖电影解析，突然听到图书管理员跟男盆友打电话说济宁学...\n",
      "2    \\n\\t\\t发表了博文《铁路部门“指尖餐厅”旅客赞不绝口》旅客乘坐高铁就餐更方便啦!日前，上...\n",
      "3    \\n\\t\\t发表了博文《清明小长假期间长三角铁路预计日均发送旅客200万人》3月19日至4月...\n",
      "4    \\n\\t\\t发表了博文《原创微小说+++他走了》他发来微信说，他走了，走到哪里算哪里，他真心...\n",
      "dtype: object\n"
     ]
    }
   ],
   "source": [
    "# Extract content of truth\n",
    "Df_text_True = pd.read_json(\"Dataset/text_modal/truth.json\", lines=True)\n",
    "Df_text_False = pd.read_json(\"Dataset/text_modal/rumor.json\", lines=True)\n",
    "Df_text = Df_text_True.content.append(Df_text_False.decision)\n",
    "# Df_text = pd.concat([Df_text_True.content, Df_text_False.decision], axis=1, sort=False)\n",
    "print(Df_text.head())"
   ]
  },
  {
   "cell_type": "code",
   "execution_count": 115,
   "metadata": {},
   "outputs": [],
   "source": [
    "# 多线程分词\n",
    "jieba.enable_parallel()\n",
    "\n",
    "#加载自定义词典\n",
    "# jieba.load_userdict(\"F:/baike_spider/dict/baike_word_chinese\")\n",
    "\n",
    "#加载停用词\n",
    "def getStopwords():\n",
    "    stopwords = []\n",
    "    with open(\"Dataset/stop_word_zh.txt\", \"r\", encoding='utf8') as f:\n",
    "        lines = f.readlines()\n",
    "        for line in lines:\n",
    "            stopwords.append(line.strip())\n",
    "    return stopwords\n",
    "stopwords = getStopwords()"
   ]
  },
  {
   "cell_type": "code",
   "execution_count": 117,
   "metadata": {},
   "outputs": [
    {
     "name": "stderr",
     "output_type": "stream",
     "text": [
      "2019-05-13 19:43:55,965 : INFO : 已完成前 10000 行的分词\n"
     ]
    }
   ],
   "source": [
    "# Word2Vec word embedding\n",
    "content_seg = []\n",
    "sentence_seg = []\n",
    "stopwords = getStopwords()\n",
    "# r1 = '[a-zA-Z0-9’!\"#$%&\\'()*+,-./:;<=>?@，。?★、…【】《》？“”‘’！[\\\\]^_`{|}~（\\\\n \\t·]+—'\n",
    "\n",
    "output = open('content_seg.txt', 'w', encoding='utf-8')\n",
    "texts_num = 0\n",
    "with open('content_seg.txt', 'r', encoding='utf-8') as content:\n",
    "    for i, content in enumerate(Df_text):\n",
    "        content = content.strip()\n",
    "        content = ''.join(re.findall('[\\u4e00-\\u9fa5]', content))\n",
    "#         print(content)\n",
    "        content_temp = jieba.cut(content) # word embedding\n",
    "\n",
    "        for word in content_temp:\n",
    "            if word not in stopwords:\n",
    "                output.write(word + ' ')\n",
    "        texts_num += 1\n",
    "        if texts_num % 1000 == 0:\n",
    "            logging.info(\"已完成前 %d 行的分词\" % texts_num)\n",
    "output.close()\n"
   ]
  },
  {
   "cell_type": "code",
   "execution_count": 135,
   "metadata": {},
   "outputs": [],
   "source": [
    "# Sntlst = open('Sntlst.txt', 'w', encoding='utf-8')\n",
    "# with open('Sntlst.txt', 'r', encoding='utf-8') as content:\n",
    "#     for i, content in enumerate(Df_text):\n",
    "#         content = content.strip()\n",
    "#         content = ''.join(re.findall('[\\u4e00-\\u9fa5]', content))\n",
    "# #         print(content)\n",
    "#         content_temp = jieba.cut(content) # word embedding\n",
    "#         for word in content_temp:\n",
    "#             if word not in stopwords:\n",
    "#                 Sntlst.write(word + ' ')\n",
    "#         Sntlst.write('\\n')"
   ]
  },
  {
   "cell_type": "code",
   "execution_count": 124,
   "metadata": {},
   "outputs": [
    {
     "name": "stderr",
     "output_type": "stream",
     "text": [
      "2019-05-13 19:46:39,234 : INFO : collecting all words and their counts\n",
      "2019-05-13 19:46:39,235 : WARNING : this function is deprecated, use smart_open.open instead\n",
      "2019-05-13 19:46:39,240 : INFO : PROGRESS: at sentence #0, processed 0 words, keeping 0 word types\n",
      "2019-05-13 19:46:39,491 : INFO : collected 59127 word types from a corpus of 655662 raw words and 66 sentences\n",
      "2019-05-13 19:46:39,494 : INFO : Loading a fresh vocabulary\n",
      "2019-05-13 19:46:41,118 : INFO : min_count=1 retains 59127 unique words (100% of original 59127, drops 0)\n",
      "2019-05-13 19:46:41,118 : INFO : min_count=1 leaves 655662 word corpus (100% of original 655662, drops 0)\n",
      "2019-05-13 19:46:41,293 : INFO : deleting the raw counts dictionary of 59127 items\n",
      "2019-05-13 19:46:41,295 : INFO : sample=0.001 downsamples 39 most-common words\n",
      "2019-05-13 19:46:41,296 : INFO : downsampling leaves estimated 559327 word corpus (85.3% of prior 655662)\n",
      "2019-05-13 19:46:41,423 : INFO : estimated required memory for 59127 words and 100 dimensions: 76865100 bytes\n",
      "2019-05-13 19:46:41,424 : INFO : resetting layer weights\n",
      "2019-05-13 19:46:42,124 : INFO : training model with 3 workers on 59127 vocabulary and 100 features, using sg=0 hs=0 sample=0.001 negative=5 window=5\n",
      "2019-05-13 19:46:42,126 : WARNING : this function is deprecated, use smart_open.open instead\n",
      "2019-05-13 19:46:42,744 : INFO : worker thread finished; awaiting finish of 2 more threads\n",
      "2019-05-13 19:46:42,751 : INFO : worker thread finished; awaiting finish of 1 more threads\n",
      "2019-05-13 19:46:42,753 : INFO : worker thread finished; awaiting finish of 0 more threads\n",
      "2019-05-13 19:46:42,754 : INFO : EPOCH - 1 : training on 655662 raw words (559354 effective words) took 0.6s, 891797 effective words/s\n",
      "2019-05-13 19:46:42,755 : WARNING : this function is deprecated, use smart_open.open instead\n",
      "2019-05-13 19:46:43,327 : INFO : worker thread finished; awaiting finish of 2 more threads\n",
      "2019-05-13 19:46:43,334 : INFO : worker thread finished; awaiting finish of 1 more threads\n",
      "2019-05-13 19:46:43,334 : INFO : worker thread finished; awaiting finish of 0 more threads\n",
      "2019-05-13 19:46:43,335 : INFO : EPOCH - 2 : training on 655662 raw words (559282 effective words) took 0.6s, 965615 effective words/s\n",
      "2019-05-13 19:46:43,337 : WARNING : this function is deprecated, use smart_open.open instead\n",
      "2019-05-13 19:46:43,957 : INFO : worker thread finished; awaiting finish of 2 more threads\n",
      "2019-05-13 19:46:43,963 : INFO : worker thread finished; awaiting finish of 1 more threads\n",
      "2019-05-13 19:46:43,965 : INFO : worker thread finished; awaiting finish of 0 more threads\n",
      "2019-05-13 19:46:43,965 : INFO : EPOCH - 3 : training on 655662 raw words (559355 effective words) took 0.6s, 890596 effective words/s\n",
      "2019-05-13 19:46:43,967 : WARNING : this function is deprecated, use smart_open.open instead\n",
      "2019-05-13 19:46:44,536 : INFO : worker thread finished; awaiting finish of 2 more threads\n",
      "2019-05-13 19:46:44,543 : INFO : worker thread finished; awaiting finish of 1 more threads\n",
      "2019-05-13 19:46:44,546 : INFO : worker thread finished; awaiting finish of 0 more threads\n",
      "2019-05-13 19:46:44,546 : INFO : EPOCH - 4 : training on 655662 raw words (559587 effective words) took 0.6s, 966815 effective words/s\n",
      "2019-05-13 19:46:44,548 : WARNING : this function is deprecated, use smart_open.open instead\n",
      "2019-05-13 19:46:45,098 : INFO : worker thread finished; awaiting finish of 2 more threads\n",
      "2019-05-13 19:46:45,105 : INFO : worker thread finished; awaiting finish of 1 more threads\n",
      "2019-05-13 19:46:45,109 : INFO : worker thread finished; awaiting finish of 0 more threads\n",
      "2019-05-13 19:46:45,109 : INFO : EPOCH - 5 : training on 655662 raw words (558868 effective words) took 0.6s, 997214 effective words/s\n",
      "2019-05-13 19:46:45,110 : INFO : training on a 3278310 raw words (2796446 effective words) took 3.0s, 936872 effective words/s\n",
      "2019-05-13 19:46:45,126 : INFO : saving Word2Vec object under med250.model.bin, separately None\n",
      "2019-05-13 19:46:45,127 : INFO : not storing attribute vectors_norm\n",
      "2019-05-13 19:46:45,128 : INFO : not storing attribute cum_table\n",
      "2019-05-13 19:46:45,129 : WARNING : this function is deprecated, use smart_open.open instead\n",
      "2019-05-13 19:46:45,704 : INFO : saved med250.model.bin\n"
     ]
    }
   ],
   "source": [
    "logging.basicConfig(format='%(asctime)s : %(levelname)s : %(message)s', level=logging.INFO)\n",
    "\n",
    "model = Word2Vec(sentences, min_count=1)\n",
    "model.save(\"med250.model.bin\")"
   ]
  },
  {
   "cell_type": "code",
   "execution_count": 125,
   "metadata": {},
   "outputs": [
    {
     "name": "stderr",
     "output_type": "stream",
     "text": [
      "2019-05-13 19:50:22,391 : INFO : loading Word2Vec object from med250.model.bin\n",
      "2019-05-13 19:50:22,392 : WARNING : this function is deprecated, use smart_open.open instead\n",
      "2019-05-13 19:50:22,823 : INFO : loading wv recursively from med250.model.bin.wv.* with mmap=None\n",
      "2019-05-13 19:50:22,824 : INFO : setting ignored attribute vectors_norm to None\n",
      "2019-05-13 19:50:22,824 : INFO : loading vocabulary recursively from med250.model.bin.vocabulary.* with mmap=None\n",
      "2019-05-13 19:50:22,828 : INFO : loading trainables recursively from med250.model.bin.trainables.* with mmap=None\n",
      "2019-05-13 19:50:22,829 : INFO : setting ignored attribute cum_table to None\n",
      "2019-05-13 19:50:22,829 : INFO : loaded med250.model.bin\n",
      "/Users/jordan/anaconda3/lib/python3.7/site-packages/ipykernel_launcher.py:2: DeprecationWarning: Call to deprecated `__getitem__` (Method will be removed in 4.0.0, use self.wv.__getitem__() instead).\n",
      "  \n"
     ]
    },
    {
     "data": {
      "text/plain": [
       "array([-0.6790596 , -0.31560704, -0.943874  , -0.05403581,  0.36007807,\n",
       "        0.01736972, -0.18587866,  0.2864233 , -0.91871876, -0.6318645 ,\n",
       "        0.23814642, -1.2147559 , -0.73912853, -0.01482066,  0.72067636,\n",
       "        0.09320169,  0.4415589 ,  0.2738696 , -0.29604954, -0.86363137,\n",
       "       -0.2200789 , -1.0952791 , -0.20724289,  0.5244837 ,  0.07613034,\n",
       "       -0.20666145,  0.03223133,  0.293121  ,  0.03739917,  0.22991382,\n",
       "       -0.71261346, -0.13162144,  0.6013406 , -0.69669   ,  0.05765362,\n",
       "       -0.04310206,  1.0782849 ,  0.10700408,  0.6123096 ,  0.6365985 ,\n",
       "       -0.6420387 ,  0.08029342,  0.10079873,  0.2719051 ,  0.8119684 ,\n",
       "        0.20672202,  0.01061113,  0.14355825,  0.33508074,  0.17718288,\n",
       "        0.13691038,  0.5490799 , -0.41726378,  0.21909967,  0.44301692,\n",
       "        0.12604618,  0.9167857 ,  1.1517267 ,  0.58338094,  0.3866572 ,\n",
       "        0.16936353, -0.3866563 , -1.0769637 ,  0.19698599, -0.57084644,\n",
       "       -0.15516873, -0.06450102,  0.2589866 , -0.3524402 ,  0.26446763,\n",
       "        0.80883735, -0.5540131 ,  0.17307453, -0.35817936,  0.82775617,\n",
       "        0.8696401 ,  0.18525077, -0.08767698, -0.0193125 ,  0.4695244 ,\n",
       "       -0.8442193 , -0.01128825,  0.59179515, -0.35928023, -0.12635623,\n",
       "        0.35593307, -0.53847504,  0.8564897 ,  0.08690912, -0.08515926,\n",
       "       -0.3871172 , -0.32707706,  0.36581042, -0.6740485 ,  0.0325295 ,\n",
       "        0.4623308 ,  0.0482897 , -0.28490743,  0.492804  ,  0.30228132],\n",
       "      dtype=float32)"
      ]
     },
     "execution_count": 125,
     "metadata": {},
     "output_type": "execute_result"
    }
   ],
   "source": [
    "model = Word2Vec.load(\"med250.model.bin\")\n",
    "model.wv['图书馆']"
   ]
  },
  {
   "cell_type": "code",
   "execution_count": 128,
   "metadata": {},
   "outputs": [
    {
     "name": "stderr",
     "output_type": "stream",
     "text": [
      "IOPub data rate exceeded.\n",
      "The notebook server will temporarily stop sending output\n",
      "to the client in order to avoid crashing it.\n",
      "To change this limit, set the config variable\n",
      "`--NotebookApp.iopub_data_rate_limit`.\n",
      "\n",
      "Current values:\n",
      "NotebookApp.iopub_data_rate_limit=1000000.0 (bytes/sec)\n",
      "NotebookApp.rate_limit_window=3.0 (secs)\n",
      "\n"
     ]
    }
   ],
   "source": [
    "print(model.wv.vocab)"
   ]
  },
  {
   "cell_type": "code",
   "execution_count": 130,
   "metadata": {},
   "outputs": [
    {
     "name": "stderr",
     "output_type": "stream",
     "text": [
      "/Users/jordan/anaconda3/lib/python3.7/site-packages/ipykernel_launcher.py:5: DeprecationWarning: Call to deprecated `__getitem__` (Method will be removed in 4.0.0, use self.wv.__getitem__() instead).\n",
      "  \"\"\"\n"
     ]
    },
    {
     "data": {
      "image/png": "[encoded data removed]",
      "text/plain": [
       "<Figure size 432x288 with 1 Axes>"
      ]
     },
     "metadata": {
      "needs_background": "light"
     },
     "output_type": "display_data"
    }
   ],
   "source": [
    "from sklearn.decomposition import PCA\n",
    "from matplotlib import pyplot\n",
    "%matplotlib inline\n",
    "# fit a 2d PCA model to the vectors\n",
    "X = model[model.wv.vocab]\n",
    "pca = PCA(n_components=2)\n",
    "result = pca.fit_transform(X)\n",
    "\n",
    "# create a scatter plot of the projection\n",
    "pyplot.scatter(result[:, 0], result[:, 1])\n",
    "words = list(model.wv.vocab)\n",
    "\n",
    "for i, word in enumerate(words):\n",
    "    pyplot.annotate(word, xy=(result[i, 0], result[i, 1]))\n",
    "pyplot.show()"
   ]
  },
  {
   "cell_type": "code",
   "execution_count": null,
   "metadata": {},
   "outputs": [],
   "source": [
    "\n",
    "# Vectorlst = open('Vectorlst.txt', 'w')\n",
    "# vector_num = 0\n",
    "\n",
    "# for i, content in enumerate(Df_text):\n",
    "#     content = content.strip()\n",
    "#     content = ''.join(re.findall('[\\u4e00-\\u9fa5]', content))\n",
    "#     content_temp = jieba.cut(content) # word embedding\n",
    "#     for word in content_temp:\n",
    "#         if word not in stopwords:\n",
    "# #                 Vectorlst.write(model.wv[word])\n",
    "#             np.savetxt(\"Vectorlst.txt\", model.wv[word])\n"
   ]
  },
  {
   "cell_type": "code",
   "execution_count": 151,
   "metadata": {},
   "outputs": [
    {
     "data": {
      "text/plain": [
       "array([-0.9836787 , -0.5219107 , -1.5912387 ,  0.02429997,  0.5109194 ,\n",
       "        0.22154723, -0.8499589 ,  0.3829096 , -1.2320184 , -0.9395975 ,\n",
       "        0.3346009 , -1.7101276 , -0.3781998 ,  0.33956835,  1.1871411 ,\n",
       "        0.30968305,  1.2189008 ,  0.28584042, -0.3310823 , -1.3747478 ,\n",
       "       -0.23842233, -1.9508092 , -0.41056034,  0.674977  , -0.20465769,\n",
       "       -0.3726541 , -0.08657398,  0.32416913, -0.09273264,  0.25778985,\n",
       "       -0.7308274 , -0.74352473,  1.114021  , -1.0810578 ,  0.7991874 ,\n",
       "       -0.03201885,  1.7285317 , -0.82291055,  1.0470022 ,  0.6756084 ,\n",
       "       -0.787475  ,  0.41010433,  0.4446742 ,  0.3717414 ,  1.2905093 ,\n",
       "        0.78571707,  0.23662078,  0.4649635 ,  0.3653965 , -0.02825803,\n",
       "        0.56840116,  1.1776386 , -0.44429007,  0.7402962 ,  0.21772787,\n",
       "        0.01461117,  1.1463177 ,  1.6631784 ,  0.84194344,  0.8950997 ,\n",
       "       -0.20602977, -0.8103437 , -2.0034056 ,  0.43925324, -0.9022366 ,\n",
       "       -0.1547469 , -0.28942162,  0.05503725, -0.7257638 ,  0.6691411 ,\n",
       "        0.82393515, -0.82480127,  0.00515636, -1.029714  ,  1.4213006 ,\n",
       "        0.71391433,  0.3852441 ,  0.5947186 , -0.15814093,  0.34023562,\n",
       "       -1.2836453 , -0.21446434,  1.0458056 , -0.14047825, -0.29252243,\n",
       "        0.3981717 , -1.0112071 ,  0.7273198 ,  0.30120036, -0.47860977,\n",
       "       -0.6685993 , -0.6237079 ,  0.3567117 , -0.72449476, -0.19927545,\n",
       "        0.27714324, -0.1859303 , -0.46644914,  1.0357587 ,  1.1808609 ],\n",
       "      dtype=float32)"
      ]
     },
     "execution_count": 151,
     "metadata": {},
     "output_type": "execute_result"
    }
   ],
   "source": [
    "model.wv[\"学生\"]"
   ]
  },
  {
   "cell_type": "code",
   "execution_count": null,
   "metadata": {},
   "outputs": [],
   "source": []
  }
 ],
 "metadata": {
  "kernelspec": {
   "display_name": "Python 3",
   "language": "python",
   "name": "python3"
  },
  "language_info": {
   "codemirror_mode": {
    "name": "ipython",
    "version": 3
   },
   "file_extension": ".py",
   "mimetype": "text/x-python",
   "name": "python",
   "nbconvert_exporter": "python",
   "pygments_lexer": "ipython3",
   "version": "3.7.1"
  }
 },
 "nbformat": 4,
 "nbformat_minor": 2
}
